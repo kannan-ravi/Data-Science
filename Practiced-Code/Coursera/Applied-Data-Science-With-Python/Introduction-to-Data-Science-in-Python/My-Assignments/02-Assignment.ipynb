{
 "cells": [
  {
   "cell_type": "markdown",
   "metadata": {
    "deletable": false,
    "editable": false,
    "nbgrader": {
     "checksum": "5a8d839ee00398fa3bd3bc58ec642beb",
     "grade": false,
     "grade_id": "cell-a839e7b47494b4c3",
     "locked": true,
     "schema_version": 1,
     "solution": false
    }
   },
   "source": [
    "# Assignment 2\n",
    "For this assignment you'll be looking at 2017 data on immunizations from the CDC. Your datafile for this assignment is in [assets/NISPUF17.csv](assets/NISPUF17.csv). A data users guide for this, which you'll need to map the variables in the data to the questions being asked, is available at [assets/NIS-PUF17-DUG.pdf](assets/NIS-PUF17-DUG.pdf). **Note: you may have to go to your Jupyter tree (click on the Coursera image) and navigate to the assignment 2 assets folder to see this PDF file).**"
   ]
  },
  {
   "cell_type": "markdown",
   "metadata": {
    "deletable": false,
    "editable": false,
    "hideCode": false,
    "hidePrompt": false,
    "nbgrader": {
     "checksum": "aaa5e730f40ba21c1bc94f864bad4742",
     "grade": false,
     "grade_id": "cell-58fc2e5938733f6a",
     "locked": true,
     "schema_version": 1,
     "solution": false
    }
   },
   "source": [
    "## Question 1\n",
    "Write a function called `proportion_of_education` which returns the proportion of children in the dataset who had a mother with the education levels equal to less than high school (<12), high school (12), more than high school but not a college graduate (>12) and college degree.\n",
    "\n",
    "*This function should return a dictionary in the form of (use the correct numbers, do not round numbers):* \n",
    "```\n",
    "    {\"less than high school\":0.2,\n",
    "    \"high school\":0.4,\n",
    "    \"more than high school but not college\":0.2,\n",
    "    \"college\":0.2}\n",
    "```\n"
   ]
  },
  {
   "cell_type": "code",
   "execution_count": 1,
   "metadata": {
    "deletable": false,
    "nbgrader": {
     "checksum": "0ac58deb3f5ac988c643e903cbee7f3a",
     "grade": false,
     "grade_id": "cell-eea16d020eb52ae7",
     "locked": false,
     "schema_version": 1,
     "solution": true
    }
   },
   "outputs": [],
   "source": [
    "import pandas as pd\n",
    "def proportion_of_education():\n",
    "    \n",
    "    # Reading CSV file using pandas\n",
    "    df = pd.read_csv('assets/NISPUF17.csv')\n",
    "    \n",
    "    # Sepearating or spliting the 'EDUC1' from original dataframe & save it in new dataframe...\n",
    "    df_edu = df['EDUC1']\n",
    "    \n",
    "    # This is the total count that we need\n",
    "    total_row = df_edu.shape[0]\n",
    "    \n",
    "    # 1 = less than 12 years\n",
    "    # 2 = 12 years\n",
    "    # 3 = grater than 12 years, not a college degree\n",
    "    # 4 = college graduate\n",
    "\n",
    "    \n",
    "    # Let's create the values for every number (4,3,2,1)\n",
    "    less_than_12years = df_edu.value_counts()[1]\n",
    "    years12 = df_edu.value_counts()[2]\n",
    "    great_12years_not_college = df_edu.value_counts()[3]\n",
    "    college_graduate =  df_edu.value_counts()[4]\n",
    "    \n",
    "    # Making the variable for print function.\n",
    "    proportional = {\"less than high school\":less_than_12years/total_row,\n",
    "                    \"high school\":years12/total_row,\n",
    "                    \"more than high school but not college\":great_12years_not_college / total_row,\n",
    "                    \"college\":college_graduate/total_row}\n",
    "    \n",
    "    # returning the proportional value\n",
    "    return proportional\n",
    "\n",
    "    # If we don;t implement any calculation it will raise the implementation error\n",
    "    raise NotImplementedError()"
   ]
  },
  {
   "cell_type": "code",
   "execution_count": 2,
   "metadata": {
    "deletable": false,
    "editable": false,
    "hideCode": false,
    "hidePrompt": false,
    "nbgrader": {
     "checksum": "ac5d91a24a7f72f66c25d242c3d24a50",
     "grade": true,
     "grade_id": "cell-c0eeef201366f51c",
     "locked": true,
     "points": 1,
     "schema_version": 1,
     "solution": false
    }
   },
   "outputs": [],
   "source": [
    "assert type(proportion_of_education())==type({}), \"You must return a dictionary.\"\n",
    "assert len(proportion_of_education()) == 4, \"You have not returned a dictionary with four items in it.\"\n",
    "assert \"less than high school\" in proportion_of_education().keys(), \"You have not returned a dictionary with the correct keys.\"\n",
    "assert \"high school\" in proportion_of_education().keys(), \"You have not returned a dictionary with the correct keys.\"\n",
    "assert \"more than high school but not college\" in proportion_of_education().keys(), \"You have not returned a dictionary with the correct keys.\"\n",
    "assert \"college\" in proportion_of_education().keys(), \"You have not returned a dictionary with the correct keys.\"\n"
   ]
  },
  {
   "cell_type": "markdown",
   "metadata": {
    "deletable": false,
    "editable": false,
    "nbgrader": {
     "checksum": "562b78b7b9b79580269be0a3bebf4b42",
     "grade": false,
     "grade_id": "cell-8fcbb64516283f52",
     "locked": true,
     "schema_version": 1,
     "solution": false
    }
   },
   "source": [
    "## Question 2\n",
    "\n",
    "Let's explore the relationship between being fed breastmilk as a child and getting a seasonal influenza vaccine from a healthcare provider. Return a tuple of the average number of influenza vaccines for those children we know received breastmilk as a child and those who know did not.\n",
    "\n",
    "*This function should return a tuple in the form (use the correct numbers:*\n",
    "```\n",
    "(2.5, 0.1)\n",
    "```"
   ]
  },
  {
   "cell_type": "code",
   "execution_count": 3,
   "metadata": {
    "deletable": false,
    "nbgrader": {
     "checksum": "a405d639063c4a6408365479f29c95c9",
     "grade": false,
     "grade_id": "cell-77f18c512324eabb",
     "locked": false,
     "schema_version": 1,
     "solution": true
    }
   },
   "outputs": [],
   "source": [
    "def average_influenza_doses():\n",
    "    # Reading CSV using pandas\n",
    "\n",
    "    # This will only work on Coursera Assignment Platfrom\n",
    "    df = pd.read_csv('assets/NISPUF17.csv')\n",
    "\n",
    "    # For Google Collab this will work fine\n",
    "    # df = pd.read_csv('/content/NISPUF17.csv')\n",
    "\n",
    "    # Creating a dataframe that contain only child who were breast feeded\n",
    "    milk_feeded = df[df['CBF_01'] == 1]\n",
    "\n",
    "    # Creating a dataframe that contain only child who were not breast feeded\n",
    "    milk_not_feeded = df[df['CBF_01'] == 2]\n",
    "\n",
    "    # Return the tuple value with mean, for both.\n",
    "    return (milk_feeded['P_NUMFLU'].mean(), milk_not_feeded['P_NUMFLU'].mean())\n",
    "\n",
    "    raise NotImplementedError()"
   ]
  },
  {
   "cell_type": "code",
   "execution_count": 4,
   "metadata": {
    "deletable": false,
    "editable": false,
    "nbgrader": {
     "checksum": "19be955e97fdf7162d43fbb7c2c40951",
     "grade": true,
     "grade_id": "cell-54a3ba6cff31caa7",
     "locked": true,
     "points": 1,
     "schema_version": 1,
     "solution": false
    }
   },
   "outputs": [],
   "source": [
    "assert len(average_influenza_doses())==2, \"Return two values in a tuple, the first for yes and the second for no.\"\n"
   ]
  },
  {
   "cell_type": "markdown",
   "metadata": {
    "deletable": false,
    "editable": false,
    "nbgrader": {
     "checksum": "e10e2163f5957a0c398ef4f0b76b4efe",
     "grade": false,
     "grade_id": "cell-f63377f3c97aa7c4",
     "locked": true,
     "schema_version": 1,
     "solution": false
    }
   },
   "source": [
    "## Question 3\n",
    "It would be interesting to see if there is any evidence of a link between vaccine effectiveness and sex of the child. Calculate the ratio of the number of children who contracted chickenpox but were vaccinated against it (at least one varicella dose) versus those who were vaccinated but did not contract chicken pox. Return results by sex. \n",
    "\n",
    "*This function should return a dictionary in the form of (use the correct numbers):* \n",
    "```\n",
    "    {\"male\":0.2,\n",
    "    \"female\":0.4}\n",
    "```\n",
    "\n",
    "Note: To aid in verification, the `chickenpox_by_sex()['female']` value the autograder is looking for starts with the digits `0.0077`."
   ]
  },
  {
   "cell_type": "code",
   "execution_count": 7,
   "metadata": {
    "deletable": false,
    "nbgrader": {
     "checksum": "b4d1b58acae002bc73eb0b19f95bc4af",
     "grade": false,
     "grade_id": "cell-a0a9e6fe67698006",
     "locked": false,
     "schema_version": 1,
     "solution": true
    }
   },
   "outputs": [],
   "source": [
    "def chickenpox_by_sex():\n",
    "\n",
    "    # Reading CSV using pandas\n",
    "\n",
    "    # This will only work on Coursera Assignment Platfrom\n",
    "    df = pd.read_csv('assets/NISPUF17.csv')\n",
    "\n",
    "    # For Google Collab this will work fine\n",
    "    # df = pd.read_csv('/content/NISPUF17.csv')\n",
    "\n",
    "    # Creating the df that contain one representing sex (SEX), had chicken pox or not (HAD_CPOX), number of varicella dose (P_NUMVRC).\n",
    "    required_df = df[['P_NUMVRC', 'SEX', 'HAD_CPOX']]\n",
    "\n",
    "    # Dropping the NaN values from the dataframe in every columns\n",
    "    droped_nan_values = required_df.dropna() # droped nan  value rows\n",
    "\n",
    "    # Only Select the vlaues that varicella doeses that are greater than 0\n",
    "    varicella_doses_greater_0 = droped_nan_values[droped_nan_values['P_NUMVRC'] > 0]\n",
    "\n",
    "    # Separate the male and female column\n",
    "    male_df = varicella_doses_greater_0[varicella_doses_greater_0['SEX'] == 1]\n",
    "    female_df = varicella_doses_greater_0[varicella_doses_greater_0['SEX'] == 2]\n",
    "\n",
    "    # Separating the male dataframe who had pox and who hadn't pox\n",
    "    male_had_pox = male_df['HAD_CPOX'].value_counts()[1]\n",
    "    male_hadnt_pox = male_df.HAD_CPOX.value_counts()[2]\n",
    "\n",
    "    # Separating the female dataframe who had pox and who hadn't pox\n",
    "    female_had_pox = female_df['HAD_CPOX'].value_counts()[1]\n",
    "    female_hadnt_pox = female_df['HAD_CPOX'].value_counts()[2]\n",
    "\n",
    "    # Find ratio for number of Males/Females who were vaccinated but had chickenpox divided by \n",
    "    #   number of Males/Females who were were vaccinated and never had chicken pox.\n",
    "    return {'male':male_had_pox/male_hadnt_pox,\n",
    "        'female':female_had_pox / female_hadnt_pox}\n",
    "    raise NotImplementedError()"
   ]
  },
  {
   "cell_type": "code",
   "execution_count": 8,
   "metadata": {
    "deletable": false,
    "editable": false,
    "nbgrader": {
     "checksum": "1b6a113a633c55699ae478a3a9ee9c33",
     "grade": true,
     "grade_id": "cell-c4f1714db100c865",
     "locked": true,
     "points": 1,
     "schema_version": 1,
     "solution": false
    }
   },
   "outputs": [],
   "source": [
    "assert len(chickenpox_by_sex())==2, \"Return a dictionary with two items, the first for males and the second for females.\"\n"
   ]
  },
  {
   "cell_type": "markdown",
   "metadata": {},
   "source": [
    "## Question 4\n",
    "A correlation is a statistical relationship between two variables. If we wanted to know if vaccines work, we might look at the correlation between the use of the vaccine and whether it results in prevention of the infection or disease [1]. In this question, you are to see if there is a correlation between having had the chicken pox and the number of chickenpox vaccine doses given (varicella).\n",
    "\n",
    "Some notes on interpreting the answer. The `had_chickenpox_column` is either `1` (for yes) or `2` (for no), and the `num_chickenpox_vaccine_column` is the number of doses a child has been given of the varicella vaccine. A positive correlation (e.g., `corr > 0`) means that an increase in `had_chickenpox_column` (which means more no’s) would also increase the values of `num_chickenpox_vaccine_column` (which means more doses of vaccine). If there is a negative correlation (e.g., `corr < 0`), it indicates that having had chickenpox is related to an increase in the number of vaccine doses.\n",
    "\n",
    "Also, `pval` is the probability that we observe a correlation between `had_chickenpox_column` and `num_chickenpox_vaccine_column` which is greater than or equal to a particular value occurred by chance. A small `pval` means that the observed correlation is highly unlikely to occur by chance. In this case, `pval` should be very small (will end in `e-18` indicating a very small number).\n",
    "\n",
    "[1] This isn’t really the full picture, since we are not looking at when the dose was given. It’s possible that children had chickenpox and then their parents went to get them the vaccine. Does this dataset have the data we would need to investigate the timing of the dose?"
   ]
  },
  {
   "cell_type": "code",
   "execution_count": 9,
   "metadata": {
    "deletable": false,
    "nbgrader": {
     "checksum": "3e645859949447913cd11d30eb33cb1e",
     "grade": false,
     "grade_id": "cell-8afff07f564cf79a",
     "locked": false,
     "schema_version": 1,
     "solution": true
    }
   },
   "outputs": [],
   "source": [
    "def corr_chickenpox():\n",
    "    # Importing all libraries\n",
    "    import scipy.stats as stats\n",
    "    import numpy as np\n",
    "    import pandas as pd\n",
    "    \n",
    "    # Reading CSV File\n",
    "\n",
    "    # This will only work on coursera assignment \n",
    "    df = pd.read_csv('assets/NISPUF17.csv')\n",
    "    \n",
    "    # For Google Collab this will work fine\n",
    "    # df = pd.read_csv('/content/NISPUF17.csv')\n",
    "\n",
    "    # Taking the required dataframe\n",
    "    df = df[['HAD_CPOX', 'P_NUMVRC']]\n",
    "\n",
    "    df = df[df['HAD_CPOX'] <= 3]\n",
    "    df = df[df['P_NUMVRC'].notna()]\n",
    "    corr, pval=stats.pearsonr(df[\"HAD_CPOX\"],df[\"P_NUMVRC\"])\n",
    "\n",
    "    # returning corr\n",
    "    return corr\n",
    "    raise NotImplementedError()"
   ]
  },
  {
   "cell_type": "code",
   "execution_count": 10,
   "metadata": {
    "deletable": false,
    "editable": false,
    "nbgrader": {
     "checksum": "ac50ccb747b99f6bbcc76da017e66528",
     "grade": true,
     "grade_id": "cell-73408733533a29a5",
     "locked": true,
     "points": 1,
     "schema_version": 1,
     "solution": false
    }
   },
   "outputs": [],
   "source": [
    "assert -1<=corr_chickenpox()<=1, \"You must return a float number between -1.0 and 1.0.\"\n"
   ]
  }
 ],
 "metadata": {
  "anaconda-cloud": {},
  "coursera": {
   "schema_names": [
    "mooc_adswpy_1_v2_assignment2"
   ]
  },
  "hide_code_all_hidden": false,
  "kernelspec": {
   "display_name": "Python 3",
   "language": "python",
   "name": "python3"
  },
  "language_info": {
   "codemirror_mode": {
    "name": "ipython",
    "version": 3
   },
   "file_extension": ".py",
   "mimetype": "text/x-python",
   "name": "python",
   "nbconvert_exporter": "python",
   "pygments_lexer": "ipython3",
   "version": "3.7.3"
  }
 },
 "nbformat": 4,
 "nbformat_minor": 1
}
