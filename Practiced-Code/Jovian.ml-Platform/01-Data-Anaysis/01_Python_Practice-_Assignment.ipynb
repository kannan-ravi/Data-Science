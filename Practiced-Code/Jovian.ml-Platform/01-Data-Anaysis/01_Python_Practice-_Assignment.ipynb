{
 "cells": [
  {
   "cell_type": "markdown",
   "metadata": {
    "id": "mgRLurQg1nan"
   },
   "source": [
    "# Assignment 1 - Python Basics Practice\n",
    "\n",
    "*This assignment is a part of the course [\"Data Analysis with Python: Zero to Pandas\"](https://jovian.ml/learn/data-analysis-with-python-zero-to-pandas)*\n",
    "\n",
    "In this assignment, you'll get to practice some of the concepts and skills covered in the following notebooks:\n",
    "\n",
    "1. [First Steps with Python and Jupyter](https://jovian.ml/aakashns/first-steps-with-python)\n",
    "2. [A Quick Tour of Variables and Data Types](https://jovian.ml/aakashns/python-variables-and-data-types)\n",
    "3. [Branching using Conditional Statements and Loops](https://jovian.ml/aakashns/python-branching-and-loops)\n",
    "\n",
    "As you go through this notebook, you will find a **???** in certain places. To complete this assignment, you must replace all the **???** with appropriate values, expressions or statements to ensure that the notebook runs properly end-to-end. \n",
    "\n",
    "Some things to keep in mind:\n",
    "\n",
    "* Make sure to run all the code cells, otherwise you may get errors like `NameError` for undefined variables.\n",
    "* Do not change variable names, delete cells or disturb other existing code. It may cause problems during evaluation.\n",
    "* In some cases, you may need to add some code cells or new statements before or after the line of code containing the **???**. \n",
    "* Since you'll be using a temporary online service for code execution, save your work by running `jovian.commit` at regular intervals.\n",
    "* Questions marked **(Optional)** will not be considered for evaluation, and can be skipped. They are for your learning.\n",
    "\n",
    "You can make submissions on this page: https://jovian.ml/learn/data-analysis-with-python-zero-to-pandas/assignment/assignment-1-python-basics-practice\n",
    "\n",
    "If you are stuck, you can ask for help on the community forum: https://jovian.ml/forum/t/assignment-1-python-practice/7761 . You can get help with errors or ask for hints, but **please don't ask for or share the full working answer code** on the forum.\n",
    "\n",
    "\n",
    "## How to run the code and save your work\n",
    "\n",
    "The recommended way to run this notebook is to click the \"Run\" button at the top of this page, and select \"Run on Binder\". This will run the notebook on [mybinder.org](https://mybinder.org), a free online service for running Jupyter notebooks. \n",
    "\n",
    "Before staring the assignment, let's save a snapshot of the assignment to your Jovian.ml profile, so that you can access it later, and continue your work."
   ]
  },
  {
   "cell_type": "code",
   "execution_count": 2,
   "metadata": {
    "executionInfo": {
     "elapsed": 4302,
     "status": "ok",
     "timestamp": 1607926070709,
     "user": {
      "displayName": "Kannan Ravindran",
      "photoUrl": "https://lh3.googleusercontent.com/a-/AOh14Gh_Xq8TkqqOG9awGEcxqYQ7IMlOg8-xjzNMO9wnnA=s64",
      "userId": "14593321298634751198"
     },
     "user_tz": -330
    },
    "id": "IhAN863k1naq"
   },
   "outputs": [],
   "source": [
    "# Install the library\n",
    "!pip install jovian --upgrade --quiet"
   ]
  },
  {
   "cell_type": "code",
   "execution_count": 3,
   "metadata": {
    "executionInfo": {
     "elapsed": 1244,
     "status": "ok",
     "timestamp": 1607926075616,
     "user": {
      "displayName": "Kannan Ravindran",
      "photoUrl": "https://lh3.googleusercontent.com/a-/AOh14Gh_Xq8TkqqOG9awGEcxqYQ7IMlOg8-xjzNMO9wnnA=s64",
      "userId": "14593321298634751198"
     },
     "user_tz": -330
    },
    "id": "XNdE0gII1nar"
   },
   "outputs": [],
   "source": [
    "# Import it\n",
    "import jovian"
   ]
  },
  {
   "cell_type": "code",
   "execution_count": 4,
   "metadata": {
    "executionInfo": {
     "elapsed": 1288,
     "status": "ok",
     "timestamp": 1607926079780,
     "user": {
      "displayName": "Kannan Ravindran",
      "photoUrl": "https://lh3.googleusercontent.com/a-/AOh14Gh_Xq8TkqqOG9awGEcxqYQ7IMlOg8-xjzNMO9wnnA=s64",
      "userId": "14593321298634751198"
     },
     "user_tz": -330
    },
    "id": "aW7-pzdi1nar"
   },
   "outputs": [],
   "source": [
    "project_name='python-practice-assignment'"
   ]
  },
  {
   "cell_type": "code",
   "execution_count": 5,
   "metadata": {
    "colab": {
     "base_uri": "https://localhost:8080/",
     "height": 137
    },
    "executionInfo": {
     "elapsed": 44235,
     "status": "ok",
     "timestamp": 1607926127677,
     "user": {
      "displayName": "Kannan Ravindran",
      "photoUrl": "https://lh3.googleusercontent.com/a-/AOh14Gh_Xq8TkqqOG9awGEcxqYQ7IMlOg8-xjzNMO9wnnA=s64",
      "userId": "14593321298634751198"
     },
     "user_tz": -330
    },
    "id": "BWHryZHI1nas",
    "outputId": "fa348d9f-bf65-4117-f45d-4156847f1eb9"
   },
   "outputs": [
    {
     "name": "stdout",
     "output_type": "stream",
     "text": [
      "[jovian] Detected Colab notebook...\u001b[0m\n",
      "[jovian] Please enter your API key ( from https://jovian.ai/ ):\u001b[0m\n",
      "API KEY: ··········\n",
      "[jovian] Uploading colab notebook to Jovian...\u001b[0m\n",
      "[jovian] Capturing environment..\u001b[0m\n",
      "[jovian] Committed successfully! https://jovian.ai/kannan/python-practice-assignment\u001b[0m\n"
     ]
    },
    {
     "data": {
      "application/vnd.google.colaboratory.intrinsic+json": {
       "type": "string"
      },
      "text/plain": [
       "'https://jovian.ai/kannan/python-practice-assignment'"
      ]
     },
     "execution_count": 5,
     "metadata": {
      "tags": []
     },
     "output_type": "execute_result"
    }
   ],
   "source": [
    "# Capture and upload a snapshot\n",
    "jovian.commit(project=project_name, privacy='secret', evironment=None)"
   ]
  },
  {
   "cell_type": "markdown",
   "metadata": {
    "id": "tCSmjYO71nav"
   },
   "source": [
    "You'll be asked to provide an API Key, to securely upload the notebook to your Jovian.ml account. You can get the API key from your Jovian.ml profile page after logging in / signing up. See the docs for details: https://jovian.ml/docs/user-guide/upload.html . The privacy of your assignment notebook is set to *Secret*, so that you can the evlauators can access it, but it will not shown on your public profile to other users."
   ]
  },
  {
   "cell_type": "markdown",
   "metadata": {
    "id": "ydQOAv1M1naw"
   },
   "source": [
    "## Problem 1 - Variables and Data Types\n",
    "\n",
    "**Q: Assign your name to the variable `name`.**"
   ]
  },
  {
   "cell_type": "code",
   "execution_count": 6,
   "metadata": {
    "executionInfo": {
     "elapsed": 1220,
     "status": "ok",
     "timestamp": 1607926153305,
     "user": {
      "displayName": "Kannan Ravindran",
      "photoUrl": "https://lh3.googleusercontent.com/a-/AOh14Gh_Xq8TkqqOG9awGEcxqYQ7IMlOg8-xjzNMO9wnnA=s64",
      "userId": "14593321298634751198"
     },
     "user_tz": -330
    },
    "id": "bUCwxCCE1nax"
   },
   "outputs": [],
   "source": [
    "name = \"Kannan\""
   ]
  },
  {
   "cell_type": "markdown",
   "metadata": {
    "id": "Up7sEA8g1nax"
   },
   "source": [
    "**Q: Assign your age (real or fake) to the variable `age`.**"
   ]
  },
  {
   "cell_type": "code",
   "execution_count": 7,
   "metadata": {
    "executionInfo": {
     "elapsed": 1252,
     "status": "ok",
     "timestamp": 1607926157040,
     "user": {
      "displayName": "Kannan Ravindran",
      "photoUrl": "https://lh3.googleusercontent.com/a-/AOh14Gh_Xq8TkqqOG9awGEcxqYQ7IMlOg8-xjzNMO9wnnA=s64",
      "userId": "14593321298634751198"
     },
     "user_tz": -330
    },
    "id": "DIzKtsgY1nay"
   },
   "outputs": [],
   "source": [
    "age = 23"
   ]
  },
  {
   "cell_type": "markdown",
   "metadata": {
    "id": "BVh0OVDV1nay"
   },
   "source": [
    "**Q: Assign a boolean value to the variable `has_android_phone`.**"
   ]
  },
  {
   "cell_type": "code",
   "execution_count": 8,
   "metadata": {
    "executionInfo": {
     "elapsed": 1319,
     "status": "ok",
     "timestamp": 1607926175465,
     "user": {
      "displayName": "Kannan Ravindran",
      "photoUrl": "https://lh3.googleusercontent.com/a-/AOh14Gh_Xq8TkqqOG9awGEcxqYQ7IMlOg8-xjzNMO9wnnA=s64",
      "userId": "14593321298634751198"
     },
     "user_tz": -330
    },
    "id": "WtsEzFq41naz"
   },
   "outputs": [],
   "source": [
    "has_android_phone = True"
   ]
  },
  {
   "cell_type": "markdown",
   "metadata": {
    "id": "Shjs2xMT1naz"
   },
   "source": [
    "You can check the values of these variables by running the next cell."
   ]
  },
  {
   "cell_type": "code",
   "execution_count": 9,
   "metadata": {
    "colab": {
     "base_uri": "https://localhost:8080/"
    },
    "executionInfo": {
     "elapsed": 1220,
     "status": "ok",
     "timestamp": 1607926178842,
     "user": {
      "displayName": "Kannan Ravindran",
      "photoUrl": "https://lh3.googleusercontent.com/a-/AOh14Gh_Xq8TkqqOG9awGEcxqYQ7IMlOg8-xjzNMO9wnnA=s64",
      "userId": "14593321298634751198"
     },
     "user_tz": -330
    },
    "id": "l50rcRpy1na0",
    "outputId": "b9adfe78-2ba6-4740-95c3-06327c4fb816"
   },
   "outputs": [
    {
     "data": {
      "text/plain": [
       "('Kannan', 23, True)"
      ]
     },
     "execution_count": 9,
     "metadata": {
      "tags": []
     },
     "output_type": "execute_result"
    }
   ],
   "source": [
    "name, age, has_android_phone"
   ]
  },
  {
   "cell_type": "markdown",
   "metadata": {
    "id": "FdOfddZ41na0"
   },
   "source": [
    "**Q: Create a dictionary `person` with keys `\"Name\"`, `\"Age\"`, `\"HasAndroidPhone\"` and values using the variables defined above.**"
   ]
  },
  {
   "cell_type": "code",
   "execution_count": 10,
   "metadata": {
    "executionInfo": {
     "elapsed": 1260,
     "status": "ok",
     "timestamp": 1607926181781,
     "user": {
      "displayName": "Kannan Ravindran",
      "photoUrl": "https://lh3.googleusercontent.com/a-/AOh14Gh_Xq8TkqqOG9awGEcxqYQ7IMlOg8-xjzNMO9wnnA=s64",
      "userId": "14593321298634751198"
     },
     "user_tz": -330
    },
    "id": "feZQBywG1na1"
   },
   "outputs": [],
   "source": [
    "person = {\"Name\":name, \"Age\":age, \"HasAndroidPhone\":has_android_phone}"
   ]
  },
  {
   "cell_type": "markdown",
   "metadata": {
    "id": "-h6weTGD1na1"
   },
   "source": [
    "Let's use the `person` dictionary to print a nice message."
   ]
  },
  {
   "cell_type": "code",
   "execution_count": 11,
   "metadata": {
    "colab": {
     "base_uri": "https://localhost:8080/"
    },
    "executionInfo": {
     "elapsed": 1246,
     "status": "ok",
     "timestamp": 1607926186573,
     "user": {
      "displayName": "Kannan Ravindran",
      "photoUrl": "https://lh3.googleusercontent.com/a-/AOh14Gh_Xq8TkqqOG9awGEcxqYQ7IMlOg8-xjzNMO9wnnA=s64",
      "userId": "14593321298634751198"
     },
     "user_tz": -330
    },
    "id": "WPXqpalH1na2",
    "outputId": "383ca0f1-aef6-4cbb-853d-d3e09b711f58"
   },
   "outputs": [
    {
     "name": "stdout",
     "output_type": "stream",
     "text": [
      "Kannan is aged 23, and owns an Android phone.\n"
     ]
    }
   ],
   "source": [
    "print(\"{} is aged {}, and owns an {}.\".format(\n",
    "    person[\"Name\"], \n",
    "    person[\"Age\"], \n",
    "    \"Android phone\" if person[\"HasAndroidPhone\"] else \"iPhone\"\n",
    "))"
   ]
  },
  {
   "cell_type": "markdown",
   "metadata": {
    "id": "3Hersy1H1na2"
   },
   "source": [
    "**Q (Optional): Use a `for` loop to display the `type` of each value stored against each key in `person`.**\n",
    "\n",
    "Here's the expected output for the key `\"Name\"`: \n",
    "\n",
    "```\n",
    "The key \"Name\" has the value \"Derek\" of the type \"<class 'str'>\"\n",
    "```"
   ]
  },
  {
   "cell_type": "code",
   "execution_count": 12,
   "metadata": {
    "colab": {
     "base_uri": "https://localhost:8080/"
    },
    "executionInfo": {
     "elapsed": 1315,
     "status": "ok",
     "timestamp": 1607926194097,
     "user": {
      "displayName": "Kannan Ravindran",
      "photoUrl": "https://lh3.googleusercontent.com/a-/AOh14Gh_Xq8TkqqOG9awGEcxqYQ7IMlOg8-xjzNMO9wnnA=s64",
      "userId": "14593321298634751198"
     },
     "user_tz": -330
    },
    "id": "HZCNxPl41na3",
    "outputId": "a5474ca3-af3b-4cb1-aaf2-05622aa9a321"
   },
   "outputs": [
    {
     "name": "stdout",
     "output_type": "stream",
     "text": [
      "The key 'Name' has the value 'Kannan' of the type <class 'str'>\n",
      "The key 'Age' has the value '23' of the type <class 'int'>\n",
      "The key 'HasAndroidPhone' has the value 'True' of the type <class 'bool'>\n"
     ]
    }
   ],
   "source": [
    "# this is optional\n",
    "for i in person:\n",
    "    print(f\"The key '{i}' has the value '{person[i]}' of the type {type(person[i])}\")"
   ]
  },
  {
   "cell_type": "markdown",
   "metadata": {
    "id": "o-s0NKOv1na3"
   },
   "source": [
    "Now that you've solved one problem, it would be a good idea to record a snapshot of your notebook."
   ]
  },
  {
   "cell_type": "code",
   "execution_count": 13,
   "metadata": {
    "colab": {
     "base_uri": "https://localhost:8080/",
     "height": 86
    },
    "executionInfo": {
     "elapsed": 3500,
     "status": "ok",
     "timestamp": 1607926203124,
     "user": {
      "displayName": "Kannan Ravindran",
      "photoUrl": "https://lh3.googleusercontent.com/a-/AOh14Gh_Xq8TkqqOG9awGEcxqYQ7IMlOg8-xjzNMO9wnnA=s64",
      "userId": "14593321298634751198"
     },
     "user_tz": -330
    },
    "id": "DMxNPg3k1na4",
    "outputId": "c6c29d4d-487d-45f8-88d3-1a8dde40ae06"
   },
   "outputs": [
    {
     "name": "stdout",
     "output_type": "stream",
     "text": [
      "[jovian] Detected Colab notebook...\u001b[0m\n",
      "[jovian] Uploading colab notebook to Jovian...\u001b[0m\n",
      "[jovian] Committed successfully! https://jovian.ai/kannan/python-practice-assignment-problem1\u001b[0m\n"
     ]
    },
    {
     "data": {
      "application/vnd.google.colaboratory.intrinsic+json": {
       "type": "string"
      },
      "text/plain": [
       "'https://jovian.ai/kannan/python-practice-assignment-problem1'"
      ]
     },
     "execution_count": 13,
     "metadata": {
      "tags": []
     },
     "output_type": "execute_result"
    }
   ],
   "source": [
    "jovian.commit(project='python-practice-assignment_problem1',environment=None)"
   ]
  },
  {
   "cell_type": "markdown",
   "metadata": {
    "id": "1xVfpduQ1na4"
   },
   "source": [
    "## Problem 2 - Working with Lists\n",
    "\n",
    "**Q: Create a list containing the following 3 elements:**\n",
    "\n",
    "* your favorite color\n",
    "* the number of pets you have\n",
    "* a boolean value describing whether you have previous programming experience\n"
   ]
  },
  {
   "cell_type": "code",
   "execution_count": 25,
   "metadata": {
    "executionInfo": {
     "elapsed": 1302,
     "status": "ok",
     "timestamp": 1607926238379,
     "user": {
      "displayName": "Kannan Ravindran",
      "photoUrl": "https://lh3.googleusercontent.com/a-/AOh14Gh_Xq8TkqqOG9awGEcxqYQ7IMlOg8-xjzNMO9wnnA=s64",
      "userId": "14593321298634751198"
     },
     "user_tz": -330
    },
    "id": "-DPKpQfF1na5"
   },
   "outputs": [],
   "source": [
    "my_list = [\"blue\", 1, False]"
   ]
  },
  {
   "cell_type": "markdown",
   "metadata": {
    "id": "IsreYYZ-1na5"
   },
   "source": [
    "Let's see what the list looks like:"
   ]
  },
  {
   "cell_type": "code",
   "execution_count": 26,
   "metadata": {
    "colab": {
     "base_uri": "https://localhost:8080/"
    },
    "executionInfo": {
     "elapsed": 1305,
     "status": "ok",
     "timestamp": 1607926241915,
     "user": {
      "displayName": "Kannan Ravindran",
      "photoUrl": "https://lh3.googleusercontent.com/a-/AOh14Gh_Xq8TkqqOG9awGEcxqYQ7IMlOg8-xjzNMO9wnnA=s64",
      "userId": "14593321298634751198"
     },
     "user_tz": -330
    },
    "id": "S_tjyUkW1na5",
    "outputId": "d75a8805-98fa-4589-8b8c-714db0f61511"
   },
   "outputs": [
    {
     "data": {
      "text/plain": [
       "['blue', 1, False]"
      ]
     },
     "execution_count": 26,
     "metadata": {
      "tags": []
     },
     "output_type": "execute_result"
    }
   ],
   "source": [
    "my_list"
   ]
  },
  {
   "cell_type": "markdown",
   "metadata": {
    "id": "5cZ8I5zT1na6"
   },
   "source": [
    "**Q: Complete the following `print` and `if` statements by accessing the appropriate elements from `my_list`.**\n",
    "\n",
    "*Hint*: Use the list indexing notation `[]`."
   ]
  },
  {
   "cell_type": "code",
   "execution_count": 27,
   "metadata": {
    "colab": {
     "base_uri": "https://localhost:8080/"
    },
    "executionInfo": {
     "elapsed": 1282,
     "status": "ok",
     "timestamp": 1607926245579,
     "user": {
      "displayName": "Kannan Ravindran",
      "photoUrl": "https://lh3.googleusercontent.com/a-/AOh14Gh_Xq8TkqqOG9awGEcxqYQ7IMlOg8-xjzNMO9wnnA=s64",
      "userId": "14593321298634751198"
     },
     "user_tz": -330
    },
    "id": "0syjOKs31na6",
    "outputId": "26b3d72c-34de-4220-dcef-5ed932d1ca12"
   },
   "outputs": [
    {
     "name": "stdout",
     "output_type": "stream",
     "text": [
      "My favorite color is blue\n"
     ]
    }
   ],
   "source": [
    "print('My favorite color is', my_list[0])"
   ]
  },
  {
   "cell_type": "code",
   "execution_count": 17,
   "metadata": {
    "colab": {
     "base_uri": "https://localhost:8080/"
    },
    "executionInfo": {
     "elapsed": 1598,
     "status": "ok",
     "timestamp": 1607926230613,
     "user": {
      "displayName": "Kannan Ravindran",
      "photoUrl": "https://lh3.googleusercontent.com/a-/AOh14Gh_Xq8TkqqOG9awGEcxqYQ7IMlOg8-xjzNMO9wnnA=s64",
      "userId": "14593321298634751198"
     },
     "user_tz": -330
    },
    "id": "0-6zx7OQ1na7",
    "outputId": "8980afa4-e4f3-4d99-9b61-7f621f2a8267"
   },
   "outputs": [
    {
     "name": "stdout",
     "output_type": "stream",
     "text": [
      "I have 1 pet(s).\n"
     ]
    }
   ],
   "source": [
    "print('I have {} pet(s).'.format(my_list[1]))"
   ]
  },
  {
   "cell_type": "code",
   "execution_count": 18,
   "metadata": {
    "colab": {
     "base_uri": "https://localhost:8080/"
    },
    "executionInfo": {
     "elapsed": 1592,
     "status": "ok",
     "timestamp": 1607926230614,
     "user": {
      "displayName": "Kannan Ravindran",
      "photoUrl": "https://lh3.googleusercontent.com/a-/AOh14Gh_Xq8TkqqOG9awGEcxqYQ7IMlOg8-xjzNMO9wnnA=s64",
      "userId": "14593321298634751198"
     },
     "user_tz": -330
    },
    "id": "GU9mkY2f1na7",
    "outputId": "49dc004a-53b8-4260-867f-0adf2992157c"
   },
   "outputs": [
    {
     "name": "stdout",
     "output_type": "stream",
     "text": [
      "I do not have previous programming experience\n"
     ]
    }
   ],
   "source": [
    "if my_list[2]:\n",
    "    print(\"I have previous programming experience\")\n",
    "else:\n",
    "    print(\"I do not have previous programming experience\")"
   ]
  },
  {
   "cell_type": "markdown",
   "metadata": {
    "id": "lowX7aWl1na7"
   },
   "source": [
    "**Q: Add your favorite single digit number to the end of the list using the appropriate list method.**"
   ]
  },
  {
   "cell_type": "code",
   "execution_count": 19,
   "metadata": {
    "executionInfo": {
     "elapsed": 1589,
     "status": "ok",
     "timestamp": 1607926230615,
     "user": {
      "displayName": "Kannan Ravindran",
      "photoUrl": "https://lh3.googleusercontent.com/a-/AOh14Gh_Xq8TkqqOG9awGEcxqYQ7IMlOg8-xjzNMO9wnnA=s64",
      "userId": "14593321298634751198"
     },
     "user_tz": -330
    },
    "id": "TiA7aaQp1na8"
   },
   "outputs": [],
   "source": [
    "my_list.append(7)"
   ]
  },
  {
   "cell_type": "markdown",
   "metadata": {
    "id": "QXGJKAI01na8"
   },
   "source": [
    "Let's see if the number shows up in the list."
   ]
  },
  {
   "cell_type": "code",
   "execution_count": 20,
   "metadata": {
    "colab": {
     "base_uri": "https://localhost:8080/"
    },
    "executionInfo": {
     "elapsed": 1580,
     "status": "ok",
     "timestamp": 1607926230616,
     "user": {
      "displayName": "Kannan Ravindran",
      "photoUrl": "https://lh3.googleusercontent.com/a-/AOh14Gh_Xq8TkqqOG9awGEcxqYQ7IMlOg8-xjzNMO9wnnA=s64",
      "userId": "14593321298634751198"
     },
     "user_tz": -330
    },
    "id": "IFi9hpoR1na9",
    "outputId": "dc8a9c54-890d-4050-d5d2-835cee4a9ed8"
   },
   "outputs": [
    {
     "data": {
      "text/plain": [
       "['blue', 1, False, 7]"
      ]
     },
     "execution_count": 20,
     "metadata": {
      "tags": []
     },
     "output_type": "execute_result"
    }
   ],
   "source": [
    "my_list"
   ]
  },
  {
   "cell_type": "markdown",
   "metadata": {
    "id": "JvbpGtSH1na9"
   },
   "source": [
    "**Q: Remove the first element of the list, using the appropriate list method.**\n",
    "\n",
    "*Hint*: Check out methods of list here: https://www.w3schools.com/python/python_ref_list.asp"
   ]
  },
  {
   "cell_type": "code",
   "execution_count": 21,
   "metadata": {
    "executionInfo": {
     "elapsed": 1576,
     "status": "ok",
     "timestamp": 1607926230618,
     "user": {
      "displayName": "Kannan Ravindran",
      "photoUrl": "https://lh3.googleusercontent.com/a-/AOh14Gh_Xq8TkqqOG9awGEcxqYQ7IMlOg8-xjzNMO9wnnA=s64",
      "userId": "14593321298634751198"
     },
     "user_tz": -330
    },
    "id": "S_ppFNgZ1na9"
   },
   "outputs": [],
   "source": [
    "my_list.remove('blue')"
   ]
  },
  {
   "cell_type": "code",
   "execution_count": 22,
   "metadata": {
    "colab": {
     "base_uri": "https://localhost:8080/"
    },
    "executionInfo": {
     "elapsed": 1573,
     "status": "ok",
     "timestamp": 1607926230619,
     "user": {
      "displayName": "Kannan Ravindran",
      "photoUrl": "https://lh3.googleusercontent.com/a-/AOh14Gh_Xq8TkqqOG9awGEcxqYQ7IMlOg8-xjzNMO9wnnA=s64",
      "userId": "14593321298634751198"
     },
     "user_tz": -330
    },
    "id": "B1ATYC_51na-",
    "outputId": "667bd7a3-4921-49b1-8deb-a86bd035932e"
   },
   "outputs": [
    {
     "data": {
      "text/plain": [
       "[1, False, 7]"
      ]
     },
     "execution_count": 22,
     "metadata": {
      "tags": []
     },
     "output_type": "execute_result"
    }
   ],
   "source": [
    "my_list"
   ]
  },
  {
   "cell_type": "markdown",
   "metadata": {
    "id": "Z8bB5Ap01na-"
   },
   "source": [
    "**Q: Complete the `print` statement below to display the number of elements in `my_list`.**"
   ]
  },
  {
   "cell_type": "code",
   "execution_count": 23,
   "metadata": {
    "colab": {
     "base_uri": "https://localhost:8080/"
    },
    "executionInfo": {
     "elapsed": 1568,
     "status": "ok",
     "timestamp": 1607926230620,
     "user": {
      "displayName": "Kannan Ravindran",
      "photoUrl": "https://lh3.googleusercontent.com/a-/AOh14Gh_Xq8TkqqOG9awGEcxqYQ7IMlOg8-xjzNMO9wnnA=s64",
      "userId": "14593321298634751198"
     },
     "user_tz": -330
    },
    "id": "wiUGgyts1na_",
    "outputId": "b706dc84-0a99-459b-af76-261ec9b0982a"
   },
   "outputs": [
    {
     "name": "stdout",
     "output_type": "stream",
     "text": [
      "The list has 3 elements.\n"
     ]
    }
   ],
   "source": [
    "print(\"The list has {} elements.\".format(len(my_list)))"
   ]
  },
  {
   "cell_type": "markdown",
   "metadata": {
    "id": "jaZLCnBx1na_"
   },
   "source": [
    "Well done, you're making good progress! Save your work before continuing"
   ]
  },
  {
   "cell_type": "code",
   "execution_count": 24,
   "metadata": {
    "colab": {
     "base_uri": "https://localhost:8080/",
     "height": 86
    },
    "executionInfo": {
     "elapsed": 4300,
     "status": "ok",
     "timestamp": 1607926233354,
     "user": {
      "displayName": "Kannan Ravindran",
      "photoUrl": "https://lh3.googleusercontent.com/a-/AOh14Gh_Xq8TkqqOG9awGEcxqYQ7IMlOg8-xjzNMO9wnnA=s64",
      "userId": "14593321298634751198"
     },
     "user_tz": -330
    },
    "id": "UK6PGUxQ1na_",
    "outputId": "4c209e1e-054c-4d5d-f640-9d79ccad5baf"
   },
   "outputs": [
    {
     "name": "stdout",
     "output_type": "stream",
     "text": [
      "[jovian] Detected Colab notebook...\u001b[0m\n",
      "[jovian] Uploading colab notebook to Jovian...\u001b[0m\n",
      "[jovian] Committed successfully! https://jovian.ai/kannan/python-practice-assignment\u001b[0m\n"
     ]
    },
    {
     "data": {
      "application/vnd.google.colaboratory.intrinsic+json": {
       "type": "string"
      },
      "text/plain": [
       "'https://jovian.ai/kannan/python-practice-assignment'"
      ]
     },
     "execution_count": 24,
     "metadata": {
      "tags": []
     },
     "output_type": "execute_result"
    }
   ],
   "source": [
    "jovian.commit(project=project_name,environment=None)"
   ]
  },
  {
   "cell_type": "markdown",
   "metadata": {
    "id": "RSsSKmZJ1nbA"
   },
   "source": [
    "## Problem 3 - Conditions and loops\n",
    "\n",
    "**Q: Calculate and display the sum of all the numbers divisible by 7 between 18 and 534 i.e. `21+28+35+...+525+532`**.\n",
    "\n",
    "*Hint*: One way to do this is to loop over a `range` using `for` and use an `if` statement inside it."
   ]
  },
  {
   "cell_type": "code",
   "execution_count": 28,
   "metadata": {
    "executionInfo": {
     "elapsed": 1289,
     "status": "ok",
     "timestamp": 1607926277857,
     "user": {
      "displayName": "Kannan Ravindran",
      "photoUrl": "https://lh3.googleusercontent.com/a-/AOh14Gh_Xq8TkqqOG9awGEcxqYQ7IMlOg8-xjzNMO9wnnA=s64",
      "userId": "14593321298634751198"
     },
     "user_tz": -330
    },
    "id": "qJOgEi_01nbA"
   },
   "outputs": [],
   "source": [
    "# store the final answer in this variable\n",
    "sum_of_numbers = 0\n",
    " \n",
    "# perform the calculation here\n",
    "for i in range(18, 535):\n",
    "    if i % 7 == 0:\n",
    "        sum_of_numbers += i"
   ]
  },
  {
   "cell_type": "code",
   "execution_count": 29,
   "metadata": {
    "colab": {
     "base_uri": "https://localhost:8080/"
    },
    "executionInfo": {
     "elapsed": 1225,
     "status": "ok",
     "timestamp": 1607926281264,
     "user": {
      "displayName": "Kannan Ravindran",
      "photoUrl": "https://lh3.googleusercontent.com/a-/AOh14Gh_Xq8TkqqOG9awGEcxqYQ7IMlOg8-xjzNMO9wnnA=s64",
      "userId": "14593321298634751198"
     },
     "user_tz": -330
    },
    "id": "yjjdmzTc1nbB",
    "outputId": "b700a3b0-7bdf-4b4d-b0f9-35b4cadeba81"
   },
   "outputs": [
    {
     "name": "stdout",
     "output_type": "stream",
     "text": [
      "The sum of all the numbers divisible by 7 between 18 and 534 is 20461\n"
     ]
    }
   ],
   "source": [
    "print('The sum of all the numbers divisible by 7 between 18 and 534 is', sum_of_numbers)"
   ]
  },
  {
   "cell_type": "markdown",
   "metadata": {
    "id": "lPASCsVW1nbB"
   },
   "source": [
    "If you are not able to figure out the solution to this problem, you can ask for hints on the community forum: https://jovian.ml/forum/t/assignment-1-python-practice/7761 . Remember to save your work before moving forward."
   ]
  },
  {
   "cell_type": "code",
   "execution_count": null,
   "metadata": {
    "id": "T2C70FZh1nbC"
   },
   "outputs": [],
   "source": [
    "jovian.commit(project=project_name,environment=None)"
   ]
  },
  {
   "cell_type": "markdown",
   "metadata": {
    "id": "cnmKYSeh1nbC"
   },
   "source": [
    "## Problem 4 - Flying to the Bahamas\n",
    "\n",
    "**Q: A travel company wants to fly a plane to the Bahamas. Flying the plane costs 5000 dollars. So far, 29 people have signed up for the trip. If the company charges 200 dollars per ticket, what is the profit made by the company?**\n",
    "\n",
    "Fill in values or arithmetic expressions for the variables below."
   ]
  },
  {
   "cell_type": "code",
   "execution_count": 30,
   "metadata": {
    "executionInfo": {
     "elapsed": 1261,
     "status": "ok",
     "timestamp": 1607926291845,
     "user": {
      "displayName": "Kannan Ravindran",
      "photoUrl": "https://lh3.googleusercontent.com/a-/AOh14Gh_Xq8TkqqOG9awGEcxqYQ7IMlOg8-xjzNMO9wnnA=s64",
      "userId": "14593321298634751198"
     },
     "user_tz": -330
    },
    "id": "UAM8MR6G1nbD"
   },
   "outputs": [],
   "source": [
    "cost_of_flying_plane = 5000"
   ]
  },
  {
   "cell_type": "code",
   "execution_count": 31,
   "metadata": {
    "executionInfo": {
     "elapsed": 1324,
     "status": "ok",
     "timestamp": 1607926293964,
     "user": {
      "displayName": "Kannan Ravindran",
      "photoUrl": "https://lh3.googleusercontent.com/a-/AOh14Gh_Xq8TkqqOG9awGEcxqYQ7IMlOg8-xjzNMO9wnnA=s64",
      "userId": "14593321298634751198"
     },
     "user_tz": -330
    },
    "id": "GFRcE8wX1nbD"
   },
   "outputs": [],
   "source": [
    "number_of_passengers = 29"
   ]
  },
  {
   "cell_type": "code",
   "execution_count": 32,
   "metadata": {
    "executionInfo": {
     "elapsed": 808,
     "status": "ok",
     "timestamp": 1607926295426,
     "user": {
      "displayName": "Kannan Ravindran",
      "photoUrl": "https://lh3.googleusercontent.com/a-/AOh14Gh_Xq8TkqqOG9awGEcxqYQ7IMlOg8-xjzNMO9wnnA=s64",
      "userId": "14593321298634751198"
     },
     "user_tz": -330
    },
    "id": "nf9MP-2r1nbD"
   },
   "outputs": [],
   "source": [
    "price_of_ticket = 200"
   ]
  },
  {
   "cell_type": "code",
   "execution_count": 33,
   "metadata": {
    "executionInfo": {
     "elapsed": 1205,
     "status": "ok",
     "timestamp": 1607926298106,
     "user": {
      "displayName": "Kannan Ravindran",
      "photoUrl": "https://lh3.googleusercontent.com/a-/AOh14Gh_Xq8TkqqOG9awGEcxqYQ7IMlOg8-xjzNMO9wnnA=s64",
      "userId": "14593321298634751198"
     },
     "user_tz": -330
    },
    "id": "NCPKIm1n1nbE"
   },
   "outputs": [],
   "source": [
    "profit = (200*29) - 5000"
   ]
  },
  {
   "cell_type": "code",
   "execution_count": 34,
   "metadata": {
    "colab": {
     "base_uri": "https://localhost:8080/"
    },
    "executionInfo": {
     "elapsed": 1008,
     "status": "ok",
     "timestamp": 1607926299993,
     "user": {
      "displayName": "Kannan Ravindran",
      "photoUrl": "https://lh3.googleusercontent.com/a-/AOh14Gh_Xq8TkqqOG9awGEcxqYQ7IMlOg8-xjzNMO9wnnA=s64",
      "userId": "14593321298634751198"
     },
     "user_tz": -330
    },
    "id": "fUUXGrTg1nbE",
    "outputId": "be3d4e75-c2eb-4e7c-849d-cb70e589f9ce"
   },
   "outputs": [
    {
     "name": "stdout",
     "output_type": "stream",
     "text": [
      "The company makes of a profit of 800 dollars\n"
     ]
    }
   ],
   "source": [
    "print('The company makes of a profit of {} dollars'.format(profit))"
   ]
  },
  {
   "cell_type": "markdown",
   "metadata": {
    "id": "iWnMD_C21nbF"
   },
   "source": [
    "**Q (Optional): Out of the 29 people who took the flight, only 12 buy tickets to return from the Bahamas on the same plane. If the flying the plane back also costs 5000 dollars, and does the company make an overall profit or loss? The company charges the same fee of 200 dollars per ticket for the return flight.**\n",
    "\n",
    "Use an `if` statement to display the result."
   ]
  },
  {
   "cell_type": "code",
   "execution_count": 35,
   "metadata": {
    "colab": {
     "base_uri": "https://localhost:8080/"
    },
    "executionInfo": {
     "elapsed": 1265,
     "status": "ok",
     "timestamp": 1607926303285,
     "user": {
      "displayName": "Kannan Ravindran",
      "photoUrl": "https://lh3.googleusercontent.com/a-/AOh14Gh_Xq8TkqqOG9awGEcxqYQ7IMlOg8-xjzNMO9wnnA=s64",
      "userId": "14593321298634751198"
     },
     "user_tz": -330
    },
    "id": "4jDeZ3HU1nbF",
    "outputId": "558e70c1-f343-49e9-9b53-e3b8339ebb31"
   },
   "outputs": [
    {
     "name": "stdout",
     "output_type": "stream",
     "text": [
      "-1600\n"
     ]
    }
   ],
   "source": [
    "# this is optional\n",
    "back_from_bahamas = 12*200\n",
    "profit_or_loss = profit - back_from_bahamas\n",
    "print (profit_or_loss)"
   ]
  },
  {
   "cell_type": "code",
   "execution_count": 36,
   "metadata": {
    "colab": {
     "base_uri": "https://localhost:8080/"
    },
    "executionInfo": {
     "elapsed": 1272,
     "status": "ok",
     "timestamp": 1607926306189,
     "user": {
      "displayName": "Kannan Ravindran",
      "photoUrl": "https://lh3.googleusercontent.com/a-/AOh14Gh_Xq8TkqqOG9awGEcxqYQ7IMlOg8-xjzNMO9wnnA=s64",
      "userId": "14593321298634751198"
     },
     "user_tz": -330
    },
    "id": "0NMFbqVv1nbG",
    "outputId": "ebe934c7-90f9-4d78-a9ec-9d2febda570f"
   },
   "outputs": [
    {
     "name": "stdout",
     "output_type": "stream",
     "text": [
      "The company makes an overall loss of 1600 dollars\n"
     ]
    }
   ],
   "source": [
    "# this is optional\n",
    "if profit_or_loss > 0:\n",
    "    print(\"The company makes an overall profit of {} dollars\".format(abs(profit_or_loss)))\n",
    "else:\n",
    "    print(\"The company makes an overall loss of {} dollars\".format(abs(profit_or_loss)))"
   ]
  },
  {
   "cell_type": "markdown",
   "metadata": {
    "id": "lFX1XoeM1nbH"
   },
   "source": [
    "Great work so far! Want to take a break? Remember to save and upload your notebook to record your progress."
   ]
  },
  {
   "cell_type": "code",
   "execution_count": 37,
   "metadata": {
    "colab": {
     "base_uri": "https://localhost:8080/",
     "height": 86
    },
    "executionInfo": {
     "elapsed": 3644,
     "status": "ok",
     "timestamp": 1607926312105,
     "user": {
      "displayName": "Kannan Ravindran",
      "photoUrl": "https://lh3.googleusercontent.com/a-/AOh14Gh_Xq8TkqqOG9awGEcxqYQ7IMlOg8-xjzNMO9wnnA=s64",
      "userId": "14593321298634751198"
     },
     "user_tz": -330
    },
    "id": "Ia4xY7mo1nbI",
    "outputId": "5f7cfff1-b3ce-44f4-97c7-01b1df1ef254"
   },
   "outputs": [
    {
     "name": "stdout",
     "output_type": "stream",
     "text": [
      "[jovian] Detected Colab notebook...\u001b[0m\n",
      "[jovian] Uploading colab notebook to Jovian...\u001b[0m\n",
      "[jovian] Committed successfully! https://jovian.ai/kannan/python-practice-assignment\u001b[0m\n"
     ]
    },
    {
     "data": {
      "application/vnd.google.colaboratory.intrinsic+json": {
       "type": "string"
      },
      "text/plain": [
       "'https://jovian.ai/kannan/python-practice-assignment'"
      ]
     },
     "execution_count": 37,
     "metadata": {
      "tags": []
     },
     "output_type": "execute_result"
    }
   ],
   "source": [
    "jovian.commit(project=project_name,environment=None)"
   ]
  },
  {
   "cell_type": "markdown",
   "metadata": {
    "id": "D7_FLxkH1nbI"
   },
   "source": [
    "## Problem 5 - Twitter Sentiment Analysis\n",
    "\n",
    "Are your ready to perform some *Data Analysis with Python*? In this problem, we'll analyze some fictional tweets and find out whether the overall sentiment of Twitter users is happy or sad. This is a simplified version of an important real world problem called *sentiment analysis*.\n",
    "\n",
    "Before we begin, we need a list of tweets to analyze. We're picking a small number of tweets here, but the exact same analysis can also be done for thousands, or even millions of tweets. The collection of data that we perform analysis on is often called a *dataset*."
   ]
  },
  {
   "cell_type": "code",
   "execution_count": 39,
   "metadata": {
    "executionInfo": {
     "elapsed": 1607,
     "status": "ok",
     "timestamp": 1607926358337,
     "user": {
      "displayName": "Kannan Ravindran",
      "photoUrl": "https://lh3.googleusercontent.com/a-/AOh14Gh_Xq8TkqqOG9awGEcxqYQ7IMlOg8-xjzNMO9wnnA=s64",
      "userId": "14593321298634751198"
     },
     "user_tz": -330
    },
    "id": "BA_PhDJx1nbJ"
   },
   "outputs": [],
   "source": [
    "tweets = [\n",
    "    \"Wow, what a great day today!! #sunshine\",\n",
    "    \"I feel sad about the things going on around us. #covid19\",\n",
    "    \"I'm really excited to learn Python with @JovianML #zerotopandas\",\n",
    "    \"This is a really nice song. #linkinpark\",\n",
    "    \"The python programming language is useful for data science\",\n",
    "    \"Why do bad things happen to me?\",\n",
    "    \"Apple announces the release of the new iPhone 12. Fans are excited.\",\n",
    "    \"Spent my day with family!! #happy\",\n",
    "    \"Check out my blog post on common string operations in Python. #zerotopandas\",\n",
    "    \"Freecodecamp has great coding tutorials. #skillup\"\n",
    "]"
   ]
  },
  {
   "cell_type": "markdown",
   "metadata": {
    "id": "0uYqyKe01nbK"
   },
   "source": [
    "Let's begin by answering a very simple but important question about our dataset.\n",
    "\n",
    "**Q: How many tweets does the dataset contain?**"
   ]
  },
  {
   "cell_type": "code",
   "execution_count": 40,
   "metadata": {
    "executionInfo": {
     "elapsed": 1239,
     "status": "ok",
     "timestamp": 1607926360905,
     "user": {
      "displayName": "Kannan Ravindran",
      "photoUrl": "https://lh3.googleusercontent.com/a-/AOh14Gh_Xq8TkqqOG9awGEcxqYQ7IMlOg8-xjzNMO9wnnA=s64",
      "userId": "14593321298634751198"
     },
     "user_tz": -330
    },
    "id": "h1cY0O5u1nbK"
   },
   "outputs": [],
   "source": [
    "number_of_tweets = len(tweets)"
   ]
  },
  {
   "cell_type": "markdown",
   "metadata": {
    "id": "QOUK9RzC1nbK"
   },
   "source": [
    "Let's create two lists of words: `happy_words` and `sad_words`. We will use these to check if a tweet is happy or sad."
   ]
  },
  {
   "cell_type": "code",
   "execution_count": 41,
   "metadata": {
    "executionInfo": {
     "elapsed": 1297,
     "status": "ok",
     "timestamp": 1607926369992,
     "user": {
      "displayName": "Kannan Ravindran",
      "photoUrl": "https://lh3.googleusercontent.com/a-/AOh14Gh_Xq8TkqqOG9awGEcxqYQ7IMlOg8-xjzNMO9wnnA=s64",
      "userId": "14593321298634751198"
     },
     "user_tz": -330
    },
    "id": "Y67mkLNO1nbL"
   },
   "outputs": [],
   "source": [
    "happy_words = ['great', 'excited', 'happy', 'nice', 'wonderful', 'amazing', 'good', 'best']"
   ]
  },
  {
   "cell_type": "code",
   "execution_count": 42,
   "metadata": {
    "executionInfo": {
     "elapsed": 1522,
     "status": "ok",
     "timestamp": 1607926372098,
     "user": {
      "displayName": "Kannan Ravindran",
      "photoUrl": "https://lh3.googleusercontent.com/a-/AOh14Gh_Xq8TkqqOG9awGEcxqYQ7IMlOg8-xjzNMO9wnnA=s64",
      "userId": "14593321298634751198"
     },
     "user_tz": -330
    },
    "id": "0WBIYLgg1nbL"
   },
   "outputs": [],
   "source": [
    "sad_words = ['sad', 'bad', 'tragic', 'unhappy', 'worst']"
   ]
  },
  {
   "cell_type": "markdown",
   "metadata": {
    "id": "lXhzHlpz1nbM"
   },
   "source": [
    "To identify whether a tweet is happy, we can simply check if contains any of the words from `happy_words`. Here's an example:"
   ]
  },
  {
   "cell_type": "code",
   "execution_count": 43,
   "metadata": {
    "executionInfo": {
     "elapsed": 1333,
     "status": "ok",
     "timestamp": 1607926390663,
     "user": {
      "displayName": "Kannan Ravindran",
      "photoUrl": "https://lh3.googleusercontent.com/a-/AOh14Gh_Xq8TkqqOG9awGEcxqYQ7IMlOg8-xjzNMO9wnnA=s64",
      "userId": "14593321298634751198"
     },
     "user_tz": -330
    },
    "id": "Dz9qS4xv1nbM"
   },
   "outputs": [],
   "source": [
    "sample_tweet = tweets[0]"
   ]
  },
  {
   "cell_type": "code",
   "execution_count": 44,
   "metadata": {
    "colab": {
     "base_uri": "https://localhost:8080/",
     "height": 35
    },
    "executionInfo": {
     "elapsed": 1475,
     "status": "ok",
     "timestamp": 1607926403398,
     "user": {
      "displayName": "Kannan Ravindran",
      "photoUrl": "https://lh3.googleusercontent.com/a-/AOh14Gh_Xq8TkqqOG9awGEcxqYQ7IMlOg8-xjzNMO9wnnA=s64",
      "userId": "14593321298634751198"
     },
     "user_tz": -330
    },
    "id": "fxL_D0wN1nbN",
    "outputId": "08f55df5-3a51-477c-ea49-0a4609d414d4"
   },
   "outputs": [
    {
     "data": {
      "application/vnd.google.colaboratory.intrinsic+json": {
       "type": "string"
      },
      "text/plain": [
       "'Wow, what a great day today!! #sunshine'"
      ]
     },
     "execution_count": 44,
     "metadata": {
      "tags": []
     },
     "output_type": "execute_result"
    }
   ],
   "source": [
    "sample_tweet"
   ]
  },
  {
   "cell_type": "code",
   "execution_count": 45,
   "metadata": {
    "executionInfo": {
     "elapsed": 1318,
     "status": "ok",
     "timestamp": 1607926482210,
     "user": {
      "displayName": "Kannan Ravindran",
      "photoUrl": "https://lh3.googleusercontent.com/a-/AOh14Gh_Xq8TkqqOG9awGEcxqYQ7IMlOg8-xjzNMO9wnnA=s64",
      "userId": "14593321298634751198"
     },
     "user_tz": -330
    },
    "id": "vg17zTY61nbN"
   },
   "outputs": [],
   "source": [
    "is_tweet_happy = False\n",
    "\n",
    "# Get a word from happy_words\n",
    "for word in happy_words:\n",
    "    # Check if the tweet contains the word\n",
    "    if word in sample_tweet:\n",
    "        # Word found! Mark the tweet as happy\n",
    "        is_tweet_happy = True"
   ]
  },
  {
   "cell_type": "markdown",
   "metadata": {
    "id": "3WvsmksO1nbO"
   },
   "source": [
    "Do you understand what we're doing above? \n",
    "\n",
    "> For each word in the list of happy words, we check if is a part of the selected tweet. If the word is indded a part of the tweet, we set the variable `is_tweet_happy` to `True`. "
   ]
  },
  {
   "cell_type": "code",
   "execution_count": 46,
   "metadata": {
    "colab": {
     "base_uri": "https://localhost:8080/"
    },
    "executionInfo": {
     "elapsed": 1335,
     "status": "ok",
     "timestamp": 1607926510234,
     "user": {
      "displayName": "Kannan Ravindran",
      "photoUrl": "https://lh3.googleusercontent.com/a-/AOh14Gh_Xq8TkqqOG9awGEcxqYQ7IMlOg8-xjzNMO9wnnA=s64",
      "userId": "14593321298634751198"
     },
     "user_tz": -330
    },
    "id": "w2wetiFi1nbO",
    "outputId": "e9a0f3e0-52e8-47f5-ef2f-9982004b2771"
   },
   "outputs": [
    {
     "data": {
      "text/plain": [
       "True"
      ]
     },
     "execution_count": 46,
     "metadata": {
      "tags": []
     },
     "output_type": "execute_result"
    }
   ],
   "source": [
    "is_tweet_happy"
   ]
  },
  {
   "cell_type": "markdown",
   "metadata": {
    "id": "a1xFDOLU1nbP"
   },
   "source": [
    "**Q: Determine the number of tweets in the dataset that can be classified as happy.**\n",
    "\n",
    "*Hint*: You'll need to use a loop inside another loop to do this. Use the code from the example shown above."
   ]
  },
  {
   "cell_type": "code",
   "execution_count": 53,
   "metadata": {
    "colab": {
     "base_uri": "https://localhost:8080/"
    },
    "executionInfo": {
     "elapsed": 2092,
     "status": "ok",
     "timestamp": 1607928541207,
     "user": {
      "displayName": "Kannan Ravindran",
      "photoUrl": "https://lh3.googleusercontent.com/a-/AOh14Gh_Xq8TkqqOG9awGEcxqYQ7IMlOg8-xjzNMO9wnnA=s64",
      "userId": "14593321298634751198"
     },
     "user_tz": -330
    },
    "id": "4ipqRg5j9Fv6",
    "outputId": "f58167ce-74b6-4cf6-a85f-aeb8c7c3662d"
   },
   "outputs": [
    {
     "name": "stdout",
     "output_type": "stream",
     "text": [
      "6\n"
     ]
    }
   ],
   "source": [
    "# store the final answer in this variable\n",
    "number_of_happy_tweets = 0\n",
    "\n",
    "# perform the calculations here\n",
    "for happy in tweets:\n",
    "    for word in happy_words:\n",
    "        if word in happy:\n",
    "            number_of_happy_tweets += 1\n",
    "print(number_of_happy_tweets)"
   ]
  },
  {
   "cell_type": "code",
   "execution_count": 54,
   "metadata": {
    "colab": {
     "base_uri": "https://localhost:8080/"
    },
    "executionInfo": {
     "elapsed": 1280,
     "status": "ok",
     "timestamp": 1607928548319,
     "user": {
      "displayName": "Kannan Ravindran",
      "photoUrl": "https://lh3.googleusercontent.com/a-/AOh14Gh_Xq8TkqqOG9awGEcxqYQ7IMlOg8-xjzNMO9wnnA=s64",
      "userId": "14593321298634751198"
     },
     "user_tz": -330
    },
    "id": "dXBILxk91nbQ",
    "outputId": "f4f87597-65c1-42a7-e19b-5bbe344bf1e6"
   },
   "outputs": [
    {
     "name": "stdout",
     "output_type": "stream",
     "text": [
      "Number of happy tweets: 6\n"
     ]
    }
   ],
   "source": [
    "print(\"Number of happy tweets:\", number_of_happy_tweets)"
   ]
  },
  {
   "cell_type": "markdown",
   "metadata": {
    "id": "94w3ywr_1nbQ"
   },
   "source": [
    "If you are not able to figure out the solution to this problem, you can ask for hints on the community forum: https://jovian.ml/forum/t/assignment-1-python-practice/7761 . Also try adding `print` statements inside your loops to inspect variables and make sure your logic is correct."
   ]
  },
  {
   "cell_type": "markdown",
   "metadata": {
    "id": "nsODhV7T1nbR"
   },
   "source": [
    "**Q: What fraction of the total number of tweets are happy?**\n",
    "\n",
    "For example, if 2 out of 10 tweets are happy, then the answer is `2/10` i.e. `0.2`."
   ]
  },
  {
   "cell_type": "code",
   "execution_count": 55,
   "metadata": {
    "executionInfo": {
     "elapsed": 1273,
     "status": "ok",
     "timestamp": 1607928608560,
     "user": {
      "displayName": "Kannan Ravindran",
      "photoUrl": "https://lh3.googleusercontent.com/a-/AOh14Gh_Xq8TkqqOG9awGEcxqYQ7IMlOg8-xjzNMO9wnnA=s64",
      "userId": "14593321298634751198"
     },
     "user_tz": -330
    },
    "id": "UafolZ721nbR"
   },
   "outputs": [],
   "source": [
    "happy_fraction = number_of_happy_tweets / number_of_tweets"
   ]
  },
  {
   "cell_type": "code",
   "execution_count": 56,
   "metadata": {
    "colab": {
     "base_uri": "https://localhost:8080/"
    },
    "executionInfo": {
     "elapsed": 1345,
     "status": "ok",
     "timestamp": 1607928613161,
     "user": {
      "displayName": "Kannan Ravindran",
      "photoUrl": "https://lh3.googleusercontent.com/a-/AOh14Gh_Xq8TkqqOG9awGEcxqYQ7IMlOg8-xjzNMO9wnnA=s64",
      "userId": "14593321298634751198"
     },
     "user_tz": -330
    },
    "id": "Gk86CZYG1nbR",
    "outputId": "27933311-39ce-4e34-8b65-9f53f06d66ab"
   },
   "outputs": [
    {
     "name": "stdout",
     "output_type": "stream",
     "text": [
      "The fraction of happy tweets is: 0.6\n"
     ]
    }
   ],
   "source": [
    "print(\"The fraction of happy tweets is:\", happy_fraction)"
   ]
  },
  {
   "cell_type": "markdown",
   "metadata": {
    "id": "0hbE7hb91nbS"
   },
   "source": [
    "To identify whether a tweet is sad, we can simply check if contains any of the words from `sad_words`.\n",
    "\n",
    "**Q: Determine the number of tweets in the dataset that can be classified as sad.**"
   ]
  },
  {
   "cell_type": "code",
   "execution_count": 58,
   "metadata": {
    "colab": {
     "base_uri": "https://localhost:8080/"
    },
    "executionInfo": {
     "elapsed": 1786,
     "status": "ok",
     "timestamp": 1607928744292,
     "user": {
      "displayName": "Kannan Ravindran",
      "photoUrl": "https://lh3.googleusercontent.com/a-/AOh14Gh_Xq8TkqqOG9awGEcxqYQ7IMlOg8-xjzNMO9wnnA=s64",
      "userId": "14593321298634751198"
     },
     "user_tz": -330
    },
    "id": "51EO5tyn1nbS",
    "outputId": "5cd67e8a-0189-498c-8e44-f418f7f3b558"
   },
   "outputs": [
    {
     "name": "stdout",
     "output_type": "stream",
     "text": [
      "2\n"
     ]
    }
   ],
   "source": [
    "# store the final answer in this variable\n",
    "number_of_sad_tweets = 0\n",
    "\n",
    "# perform the calculations here\n",
    "for sad in tweets:\n",
    "    for word in sad_words:\n",
    "        if word in sad:\n",
    "            number_of_sad_tweets += 1\n",
    "print(number_of_sad_tweets)"
   ]
  },
  {
   "cell_type": "code",
   "execution_count": 59,
   "metadata": {
    "colab": {
     "base_uri": "https://localhost:8080/"
    },
    "executionInfo": {
     "elapsed": 1470,
     "status": "ok",
     "timestamp": 1607928749500,
     "user": {
      "displayName": "Kannan Ravindran",
      "photoUrl": "https://lh3.googleusercontent.com/a-/AOh14Gh_Xq8TkqqOG9awGEcxqYQ7IMlOg8-xjzNMO9wnnA=s64",
      "userId": "14593321298634751198"
     },
     "user_tz": -330
    },
    "id": "8lY7vYEa1nbT",
    "outputId": "6b04fce2-3414-4732-b8f0-096f1d08e525"
   },
   "outputs": [
    {
     "name": "stdout",
     "output_type": "stream",
     "text": [
      "Number of sad tweets: 2\n"
     ]
    }
   ],
   "source": [
    "print(\"Number of sad tweets:\", number_of_sad_tweets)"
   ]
  },
  {
   "cell_type": "markdown",
   "metadata": {
    "id": "i2FnKD3P1nbT"
   },
   "source": [
    "**Q: What fraction of the total number of tweets are sad?**"
   ]
  },
  {
   "cell_type": "code",
   "execution_count": 60,
   "metadata": {
    "executionInfo": {
     "elapsed": 1234,
     "status": "ok",
     "timestamp": 1607928774996,
     "user": {
      "displayName": "Kannan Ravindran",
      "photoUrl": "https://lh3.googleusercontent.com/a-/AOh14Gh_Xq8TkqqOG9awGEcxqYQ7IMlOg8-xjzNMO9wnnA=s64",
      "userId": "14593321298634751198"
     },
     "user_tz": -330
    },
    "id": "APJbsXSS1nbT"
   },
   "outputs": [],
   "source": [
    "sad_fraction = number_of_sad_tweets / number_of_tweets"
   ]
  },
  {
   "cell_type": "code",
   "execution_count": 61,
   "metadata": {
    "colab": {
     "base_uri": "https://localhost:8080/"
    },
    "executionInfo": {
     "elapsed": 1339,
     "status": "ok",
     "timestamp": 1607928777283,
     "user": {
      "displayName": "Kannan Ravindran",
      "photoUrl": "https://lh3.googleusercontent.com/a-/AOh14Gh_Xq8TkqqOG9awGEcxqYQ7IMlOg8-xjzNMO9wnnA=s64",
      "userId": "14593321298634751198"
     },
     "user_tz": -330
    },
    "id": "DeD3FXIB1nbU",
    "outputId": "989b1176-0f2e-48fe-b49b-82d2f5a09a74"
   },
   "outputs": [
    {
     "name": "stdout",
     "output_type": "stream",
     "text": [
      "The fraction of sad tweets is: 0.2\n"
     ]
    }
   ],
   "source": [
    "print(\"The fraction of sad tweets is:\", sad_fraction)"
   ]
  },
  {
   "cell_type": "markdown",
   "metadata": {
    "id": "i-acm7t51nbe"
   },
   "source": [
    "The rest of this problem is optional. Let's save your work before continuing."
   ]
  },
  {
   "cell_type": "code",
   "execution_count": null,
   "metadata": {
    "id": "yzPGiwGB1nbf"
   },
   "outputs": [],
   "source": [
    "jovian.commit(project=project_name,environment=None)"
   ]
  },
  {
   "cell_type": "markdown",
   "metadata": {
    "id": "JIYl0bTS1nbf"
   },
   "source": [
    "Great work, even with some basic analysis, we already know a lot about the sentiment of the tweets given to us. Let us now define a metric called \"sentiment score\", to summarize the overall sentiment of the tweets.\n",
    "\n",
    "**Q (Optional): Calculate the sentiment score, which is defined as the difference between the fraction of happy tweets and the fraction of sad tweets.**"
   ]
  },
  {
   "cell_type": "code",
   "execution_count": 62,
   "metadata": {
    "executionInfo": {
     "elapsed": 1663,
     "status": "ok",
     "timestamp": 1607928999890,
     "user": {
      "displayName": "Kannan Ravindran",
      "photoUrl": "https://lh3.googleusercontent.com/a-/AOh14Gh_Xq8TkqqOG9awGEcxqYQ7IMlOg8-xjzNMO9wnnA=s64",
      "userId": "14593321298634751198"
     },
     "user_tz": -330
    },
    "id": "B2XaRpOE1nbf"
   },
   "outputs": [],
   "source": [
    "sentiment_score = happy_fraction - sad_fraction"
   ]
  },
  {
   "cell_type": "code",
   "execution_count": 63,
   "metadata": {
    "colab": {
     "base_uri": "https://localhost:8080/"
    },
    "executionInfo": {
     "elapsed": 1497,
     "status": "ok",
     "timestamp": 1607929001893,
     "user": {
      "displayName": "Kannan Ravindran",
      "photoUrl": "https://lh3.googleusercontent.com/a-/AOh14Gh_Xq8TkqqOG9awGEcxqYQ7IMlOg8-xjzNMO9wnnA=s64",
      "userId": "14593321298634751198"
     },
     "user_tz": -330
    },
    "id": "HzPMr7li1nbg",
    "outputId": "cf5909ee-c1e1-4d16-8fa2-7197a148053e"
   },
   "outputs": [
    {
     "name": "stdout",
     "output_type": "stream",
     "text": [
      "The sentiment score for the given tweets is 0.39999999999999997\n"
     ]
    }
   ],
   "source": [
    "print(\"The sentiment score for the given tweets is\", sentiment_score)"
   ]
  },
  {
   "cell_type": "markdown",
   "metadata": {
    "id": "0fhzxZid1nbh"
   },
   "source": [
    "In a real world scenario, we could calculate & record the sentiment score for all the tweets sent out every day. This information can be used to plot a graph and study the trends in the changing sentiment of the world. The following graph was creating using the Python data visualization library `matplotlib`, which we'll cover later in the course.\n",
    "\n",
    "<img src=\"https://i.imgur.com/6CCIwCb.png\" style=\"width:400px\">\n",
    "\n",
    "What does the sentiment score represent? Based on the value of the sentiment score, can you identify if the overall sentiment of the dataset is happy or sad?\n",
    "\n",
    "**Q (Optional): Display whether the overall sentiment of the given dataset of tweets is happy or sad, using the sentiment score.**"
   ]
  },
  {
   "cell_type": "code",
   "execution_count": 64,
   "metadata": {
    "colab": {
     "base_uri": "https://localhost:8080/"
    },
    "executionInfo": {
     "elapsed": 1260,
     "status": "ok",
     "timestamp": 1607929051979,
     "user": {
      "displayName": "Kannan Ravindran",
      "photoUrl": "https://lh3.googleusercontent.com/a-/AOh14Gh_Xq8TkqqOG9awGEcxqYQ7IMlOg8-xjzNMO9wnnA=s64",
      "userId": "14593321298634751198"
     },
     "user_tz": -330
    },
    "id": "qlX6FlVG1nbh",
    "outputId": "1ac749a2-9f97-4430-db0f-a452274fa68a"
   },
   "outputs": [
    {
     "name": "stdout",
     "output_type": "stream",
     "text": [
      "The overall sentiment is happy\n"
     ]
    }
   ],
   "source": [
    "if sentiment_score:\n",
    "    print(\"The overall sentiment is happy\")\n",
    "else:\n",
    "    print(\"The overall sentiment is sad\")"
   ]
  },
  {
   "cell_type": "markdown",
   "metadata": {
    "id": "0JhKhv8b1nbi"
   },
   "source": [
    "Finally, it's also important to track how many tweets are neutral i.e. neither happy nor sad. If a large fraction of tweets are marked neutral, maybe we need to improve our lists of happy and sad words. \n",
    "\n",
    "**Q (Optional): What is the fraction of tweets that are neutral i.e. neither happy nor sad.**"
   ]
  },
  {
   "cell_type": "code",
   "execution_count": null,
   "metadata": {
    "id": "98yWrnbm1nbi"
   },
   "outputs": [],
   "source": [
    "# store the final answer in this variable\n",
    "number_of_neutral_tweets = 0\n",
    "\n",
    "# perform the calculation here\n",
    "# I try a lot but i cant figure it, there are two neutral but i get output as a zero"
   ]
  },
  {
   "cell_type": "code",
   "execution_count": null,
   "metadata": {
    "id": "PFc6j9HT1nbj"
   },
   "outputs": [],
   "source": [
    "neutral_fraction = ???"
   ]
  },
  {
   "cell_type": "code",
   "execution_count": null,
   "metadata": {
    "id": "eydrT8Bt1nbj"
   },
   "outputs": [],
   "source": [
    "print('The fraction of neutral tweets is', neutral_fraction)"
   ]
  },
  {
   "cell_type": "markdown",
   "metadata": {
    "id": "wKlFqqjG1nbj"
   },
   "source": [
    "Ponder upon these questions and try some experiments to hone your skills further:\n",
    "\n",
    "* What are the limitations of our approach? When will it go wrong or give incorrect results?\n",
    "* How can we improve our approach to address the limitations?\n",
    "* What are some other questions you would like to ask, given a list of tweets?\n",
    "* Try collecting some real tweets from your Twitter timeline and repeat this analysis. Do the results make sense?\n",
    "\n",
    "**IMPORTANT NOTE**: If you want to try out these experiments, please create a new notebook using the \"New Notebook\" button on your Jovian.ml profile, to avoid making unintended changes to your assignment submission notebook."
   ]
  },
  {
   "cell_type": "markdown",
   "metadata": {
    "id": "RmVnwn3y1nbk"
   },
   "source": [
    "## Submission \n",
    "\n",
    "Congratulations on making it this far! You've reached the end of this assignment, and you just completed your first data analysis problem. It's time to record one final version of your notebook for submission.\n",
    "\n",
    "Make a submission here by filling the submission form: https://jovian.ml/learn/data-analysis-with-python-zero-to-pandas/assignment/assignment-1-python-basics-practice"
   ]
  },
  {
   "cell_type": "code",
   "execution_count": 65,
   "metadata": {
    "colab": {
     "base_uri": "https://localhost:8080/",
     "height": 86
    },
    "executionInfo": {
     "elapsed": 4209,
     "status": "ok",
     "timestamp": 1607932792573,
     "user": {
      "displayName": "Kannan Ravindran",
      "photoUrl": "https://lh3.googleusercontent.com/a-/AOh14Gh_Xq8TkqqOG9awGEcxqYQ7IMlOg8-xjzNMO9wnnA=s64",
      "userId": "14593321298634751198"
     },
     "user_tz": -330
    },
    "id": "j4DZZuqw1nbk",
    "outputId": "81b8bd84-c082-47d9-c6c1-8e90a42a9922",
    "scrolled": false
   },
   "outputs": [
    {
     "name": "stdout",
     "output_type": "stream",
     "text": [
      "[jovian] Detected Colab notebook...\u001b[0m\n",
      "[jovian] Uploading colab notebook to Jovian...\u001b[0m\n",
      "[jovian] Committed successfully! https://jovian.ai/kannan/python-practice-assignment\u001b[0m\n"
     ]
    },
    {
     "data": {
      "application/vnd.google.colaboratory.intrinsic+json": {
       "type": "string"
      },
      "text/plain": [
       "'https://jovian.ai/kannan/python-practice-assignment'"
      ]
     },
     "execution_count": 65,
     "metadata": {
      "tags": []
     },
     "output_type": "execute_result"
    }
   ],
   "source": [
    "jovian.commit(project='',environment=None)"
   ]
  },
  {
   "cell_type": "code",
   "execution_count": 66,
   "metadata": {
    "colab": {
     "base_uri": "https://localhost:8080/"
    },
    "executionInfo": {
     "elapsed": 1234,
     "status": "ok",
     "timestamp": 1607932911885,
     "user": {
      "displayName": "Kannan Ravindran",
      "photoUrl": "https://lh3.googleusercontent.com/a-/AOh14Gh_Xq8TkqqOG9awGEcxqYQ7IMlOg8-xjzNMO9wnnA=s64",
      "userId": "14593321298634751198"
     },
     "user_tz": -330
    },
    "id": "tc352pE3RQVR",
    "outputId": "845f14e8-1f4c-4984-be17-7079c0f649b3"
   },
   "outputs": [
    {
     "name": "stdout",
     "output_type": "stream",
     "text": [
      "[jovian] Detected Colab notebook...\u001b[0m\n"
     ]
    },
    {
     "name": "stderr",
     "output_type": "stream",
     "text": [
      "\u001b[31m[jovian] Error: Please provide the project argument e.g. jovian.commit(project='my-project')\u001b[0m\n"
     ]
    }
   ],
   "source": [
    "jovian.submit(assignment=\"zero-to-pandas-a1\")"
   ]
  }
 ],
 "metadata": {
  "colab": {
   "name": "python-practice-assignment.ipynb",
   "provenance": []
  },
  "kernelspec": {
   "display_name": "Python 3",
   "language": "python",
   "name": "python3"
  },
  "language_info": {
   "codemirror_mode": {
    "name": "ipython",
    "version": 3
   },
   "file_extension": ".py",
   "mimetype": "text/x-python",
   "name": "python",
   "nbconvert_exporter": "python",
   "pygments_lexer": "ipython3",
   "version": "3.8.6"
  }
 },
 "nbformat": 4,
 "nbformat_minor": 1
}
